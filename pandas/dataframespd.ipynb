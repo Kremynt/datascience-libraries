{
 "cells": [
  {
   "cell_type": "code",
   "execution_count": 1,
   "metadata": {},
   "outputs": [],
   "source": [
    "import numpy as np\n",
    "import pandas as pd"
   ]
  },
  {
   "cell_type": "code",
   "execution_count": 2,
   "metadata": {},
   "outputs": [],
   "source": [
    "df = pd.DataFrame({\n",
    "    'Population':[65.789,54.6743,345.678,23.456,67.890,123.098,59.000],\n",
    "    'GDP':[\n",
    "        1234567,\n",
    "        3456788,\n",
    "        2346577,\n",
    "        4847658,\n",
    "        6754444,\n",
    "        2343454,\n",
    "        8577547\n",
    "    ],\n",
    "    'HDI':[\n",
    "        0.913,\n",
    "        0.3432,\n",
    "        0.321,\n",
    "        0.879,\n",
    "        0.373,\n",
    "        0.999,\n",
    "        0.342\n",
    "    ]\n",
    "})"
   ]
  },
  {
   "cell_type": "code",
   "execution_count": 3,
   "metadata": {},
   "outputs": [
    {
     "data": {
      "text/html": [
       "<div>\n",
       "<style scoped>\n",
       "    .dataframe tbody tr th:only-of-type {\n",
       "        vertical-align: middle;\n",
       "    }\n",
       "\n",
       "    .dataframe tbody tr th {\n",
       "        vertical-align: top;\n",
       "    }\n",
       "\n",
       "    .dataframe thead th {\n",
       "        text-align: right;\n",
       "    }\n",
       "</style>\n",
       "<table border=\"1\" class=\"dataframe\">\n",
       "  <thead>\n",
       "    <tr style=\"text-align: right;\">\n",
       "      <th></th>\n",
       "      <th>Population</th>\n",
       "      <th>GDP</th>\n",
       "      <th>HDI</th>\n",
       "    </tr>\n",
       "  </thead>\n",
       "  <tbody>\n",
       "    <tr>\n",
       "      <th>0</th>\n",
       "      <td>65.7890</td>\n",
       "      <td>1234567</td>\n",
       "      <td>0.9130</td>\n",
       "    </tr>\n",
       "    <tr>\n",
       "      <th>1</th>\n",
       "      <td>54.6743</td>\n",
       "      <td>3456788</td>\n",
       "      <td>0.3432</td>\n",
       "    </tr>\n",
       "    <tr>\n",
       "      <th>2</th>\n",
       "      <td>345.6780</td>\n",
       "      <td>2346577</td>\n",
       "      <td>0.3210</td>\n",
       "    </tr>\n",
       "    <tr>\n",
       "      <th>3</th>\n",
       "      <td>23.4560</td>\n",
       "      <td>4847658</td>\n",
       "      <td>0.8790</td>\n",
       "    </tr>\n",
       "    <tr>\n",
       "      <th>4</th>\n",
       "      <td>67.8900</td>\n",
       "      <td>6754444</td>\n",
       "      <td>0.3730</td>\n",
       "    </tr>\n",
       "    <tr>\n",
       "      <th>5</th>\n",
       "      <td>123.0980</td>\n",
       "      <td>2343454</td>\n",
       "      <td>0.9990</td>\n",
       "    </tr>\n",
       "    <tr>\n",
       "      <th>6</th>\n",
       "      <td>59.0000</td>\n",
       "      <td>8577547</td>\n",
       "      <td>0.3420</td>\n",
       "    </tr>\n",
       "  </tbody>\n",
       "</table>\n",
       "</div>"
      ],
      "text/plain": [
       "   Population      GDP     HDI\n",
       "0     65.7890  1234567  0.9130\n",
       "1     54.6743  3456788  0.3432\n",
       "2    345.6780  2346577  0.3210\n",
       "3     23.4560  4847658  0.8790\n",
       "4     67.8900  6754444  0.3730\n",
       "5    123.0980  2343454  0.9990\n",
       "6     59.0000  8577547  0.3420"
      ]
     },
     "execution_count": 3,
     "metadata": {},
     "output_type": "execute_result"
    }
   ],
   "source": [
    "df"
   ]
  },
  {
   "cell_type": "code",
   "execution_count": 4,
   "metadata": {},
   "outputs": [
    {
     "data": {
      "text/plain": [
       "Index(['Population', 'GDP', 'HDI'], dtype='object')"
      ]
     },
     "execution_count": 4,
     "metadata": {},
     "output_type": "execute_result"
    }
   ],
   "source": [
    "df.columns"
   ]
  },
  {
   "cell_type": "code",
   "execution_count": 5,
   "metadata": {},
   "outputs": [
    {
     "name": "stdout",
     "output_type": "stream",
     "text": [
      "<class 'pandas.core.frame.DataFrame'>\n",
      "RangeIndex: 7 entries, 0 to 6\n",
      "Data columns (total 3 columns):\n",
      " #   Column      Non-Null Count  Dtype  \n",
      "---  ------      --------------  -----  \n",
      " 0   Population  7 non-null      float64\n",
      " 1   GDP         7 non-null      int64  \n",
      " 2   HDI         7 non-null      float64\n",
      "dtypes: float64(2), int64(1)\n",
      "memory usage: 300.0 bytes\n"
     ]
    }
   ],
   "source": [
    "df.info()"
   ]
  },
  {
   "cell_type": "code",
   "execution_count": 6,
   "metadata": {},
   "outputs": [
    {
     "data": {
      "text/plain": [
       "(7, 3)"
      ]
     },
     "execution_count": 6,
     "metadata": {},
     "output_type": "execute_result"
    }
   ],
   "source": [
    "df.shape"
   ]
  },
  {
   "cell_type": "code",
   "execution_count": 7,
   "metadata": {},
   "outputs": [
    {
     "data": {
      "text/html": [
       "<div>\n",
       "<style scoped>\n",
       "    .dataframe tbody tr th:only-of-type {\n",
       "        vertical-align: middle;\n",
       "    }\n",
       "\n",
       "    .dataframe tbody tr th {\n",
       "        vertical-align: top;\n",
       "    }\n",
       "\n",
       "    .dataframe thead th {\n",
       "        text-align: right;\n",
       "    }\n",
       "</style>\n",
       "<table border=\"1\" class=\"dataframe\">\n",
       "  <thead>\n",
       "    <tr style=\"text-align: right;\">\n",
       "      <th></th>\n",
       "      <th>Population</th>\n",
       "      <th>GDP</th>\n",
       "      <th>HDI</th>\n",
       "    </tr>\n",
       "  </thead>\n",
       "  <tbody>\n",
       "    <tr>\n",
       "      <th>count</th>\n",
       "      <td>7.000000</td>\n",
       "      <td>7.000000e+00</td>\n",
       "      <td>7.000000</td>\n",
       "    </tr>\n",
       "    <tr>\n",
       "      <th>mean</th>\n",
       "      <td>105.655043</td>\n",
       "      <td>4.223005e+06</td>\n",
       "      <td>0.595743</td>\n",
       "    </tr>\n",
       "    <tr>\n",
       "      <th>std</th>\n",
       "      <td>109.896306</td>\n",
       "      <td>2.656186e+06</td>\n",
       "      <td>0.315374</td>\n",
       "    </tr>\n",
       "    <tr>\n",
       "      <th>min</th>\n",
       "      <td>23.456000</td>\n",
       "      <td>1.234567e+06</td>\n",
       "      <td>0.321000</td>\n",
       "    </tr>\n",
       "    <tr>\n",
       "      <th>25%</th>\n",
       "      <td>56.837150</td>\n",
       "      <td>2.345016e+06</td>\n",
       "      <td>0.342600</td>\n",
       "    </tr>\n",
       "    <tr>\n",
       "      <th>50%</th>\n",
       "      <td>65.789000</td>\n",
       "      <td>3.456788e+06</td>\n",
       "      <td>0.373000</td>\n",
       "    </tr>\n",
       "    <tr>\n",
       "      <th>75%</th>\n",
       "      <td>95.494000</td>\n",
       "      <td>5.801051e+06</td>\n",
       "      <td>0.896000</td>\n",
       "    </tr>\n",
       "    <tr>\n",
       "      <th>max</th>\n",
       "      <td>345.678000</td>\n",
       "      <td>8.577547e+06</td>\n",
       "      <td>0.999000</td>\n",
       "    </tr>\n",
       "  </tbody>\n",
       "</table>\n",
       "</div>"
      ],
      "text/plain": [
       "       Population           GDP       HDI\n",
       "count    7.000000  7.000000e+00  7.000000\n",
       "mean   105.655043  4.223005e+06  0.595743\n",
       "std    109.896306  2.656186e+06  0.315374\n",
       "min     23.456000  1.234567e+06  0.321000\n",
       "25%     56.837150  2.345016e+06  0.342600\n",
       "50%     65.789000  3.456788e+06  0.373000\n",
       "75%     95.494000  5.801051e+06  0.896000\n",
       "max    345.678000  8.577547e+06  0.999000"
      ]
     },
     "execution_count": 7,
     "metadata": {},
     "output_type": "execute_result"
    }
   ],
   "source": [
    "df.describe()"
   ]
  },
  {
   "cell_type": "code",
   "execution_count": 8,
   "metadata": {},
   "outputs": [
    {
     "data": {
      "text/html": [
       "<div>\n",
       "<style scoped>\n",
       "    .dataframe tbody tr th:only-of-type {\n",
       "        vertical-align: middle;\n",
       "    }\n",
       "\n",
       "    .dataframe tbody tr th {\n",
       "        vertical-align: top;\n",
       "    }\n",
       "\n",
       "    .dataframe thead th {\n",
       "        text-align: right;\n",
       "    }\n",
       "</style>\n",
       "<table border=\"1\" class=\"dataframe\">\n",
       "  <thead>\n",
       "    <tr style=\"text-align: right;\">\n",
       "      <th></th>\n",
       "      <th>Population</th>\n",
       "      <th>GDP</th>\n",
       "      <th>HDI</th>\n",
       "    </tr>\n",
       "  </thead>\n",
       "  <tbody>\n",
       "    <tr>\n",
       "      <th>Canada</th>\n",
       "      <td>65.7890</td>\n",
       "      <td>1234567</td>\n",
       "      <td>0.9130</td>\n",
       "    </tr>\n",
       "    <tr>\n",
       "      <th>USA</th>\n",
       "      <td>54.6743</td>\n",
       "      <td>3456788</td>\n",
       "      <td>0.3432</td>\n",
       "    </tr>\n",
       "    <tr>\n",
       "      <th>Ghana</th>\n",
       "      <td>345.6780</td>\n",
       "      <td>2346577</td>\n",
       "      <td>0.3210</td>\n",
       "    </tr>\n",
       "    <tr>\n",
       "      <th>Rwanda</th>\n",
       "      <td>23.4560</td>\n",
       "      <td>4847658</td>\n",
       "      <td>0.8790</td>\n",
       "    </tr>\n",
       "    <tr>\n",
       "      <th>Netherlands</th>\n",
       "      <td>67.8900</td>\n",
       "      <td>6754444</td>\n",
       "      <td>0.3730</td>\n",
       "    </tr>\n",
       "    <tr>\n",
       "      <th>Australia</th>\n",
       "      <td>123.0980</td>\n",
       "      <td>2343454</td>\n",
       "      <td>0.9990</td>\n",
       "    </tr>\n",
       "    <tr>\n",
       "      <th>Austria</th>\n",
       "      <td>59.0000</td>\n",
       "      <td>8577547</td>\n",
       "      <td>0.3420</td>\n",
       "    </tr>\n",
       "  </tbody>\n",
       "</table>\n",
       "</div>"
      ],
      "text/plain": [
       "             Population      GDP     HDI\n",
       "Canada          65.7890  1234567  0.9130\n",
       "USA             54.6743  3456788  0.3432\n",
       "Ghana          345.6780  2346577  0.3210\n",
       "Rwanda          23.4560  4847658  0.8790\n",
       "Netherlands     67.8900  6754444  0.3730\n",
       "Australia      123.0980  2343454  0.9990\n",
       "Austria         59.0000  8577547  0.3420"
      ]
     },
     "execution_count": 8,
     "metadata": {},
     "output_type": "execute_result"
    }
   ],
   "source": [
    "df.index = [\n",
    "    'Canada',\n",
    "    'USA',\n",
    "    'Ghana',\n",
    "    'Rwanda',\n",
    "    'Netherlands',\n",
    "    'Australia',\n",
    "    'Austria'\n",
    "]\n",
    "\n",
    "df"
   ]
  },
  {
   "cell_type": "markdown",
   "metadata": {},
   "source": [
    "To select a row or an index you use an attribute called loc(if you call the row by name) or iloc(if you call the row by sequential index)"
   ]
  },
  {
   "cell_type": "code",
   "execution_count": 9,
   "metadata": {},
   "outputs": [
    {
     "data": {
      "text/plain": [
       "Population         23.456\n",
       "GDP           4847658.000\n",
       "HDI                 0.879\n",
       "Name: Rwanda, dtype: float64"
      ]
     },
     "execution_count": 9,
     "metadata": {},
     "output_type": "execute_result"
    }
   ],
   "source": [
    "df.loc['Rwanda']"
   ]
  },
  {
   "cell_type": "markdown",
   "metadata": {},
   "source": [
    "To call a column however, the index is applied diretly to the dataframe"
   ]
  },
  {
   "cell_type": "code",
   "execution_count": 10,
   "metadata": {},
   "outputs": [
    {
     "data": {
      "text/plain": [
       "Canada         1234567\n",
       "USA            3456788\n",
       "Ghana          2346577\n",
       "Rwanda         4847658\n",
       "Netherlands    6754444\n",
       "Australia      2343454\n",
       "Austria        8577547\n",
       "Name: GDP, dtype: int64"
      ]
     },
     "execution_count": 10,
     "metadata": {},
     "output_type": "execute_result"
    }
   ],
   "source": [
    "df['GDP']"
   ]
  },
  {
   "cell_type": "code",
   "execution_count": 11,
   "metadata": {},
   "outputs": [
    {
     "data": {
      "text/html": [
       "<div>\n",
       "<style scoped>\n",
       "    .dataframe tbody tr th:only-of-type {\n",
       "        vertical-align: middle;\n",
       "    }\n",
       "\n",
       "    .dataframe tbody tr th {\n",
       "        vertical-align: top;\n",
       "    }\n",
       "\n",
       "    .dataframe thead th {\n",
       "        text-align: right;\n",
       "    }\n",
       "</style>\n",
       "<table border=\"1\" class=\"dataframe\">\n",
       "  <thead>\n",
       "    <tr style=\"text-align: right;\">\n",
       "      <th></th>\n",
       "      <th>Population</th>\n",
       "      <th>GDP</th>\n",
       "      <th>HDI</th>\n",
       "    </tr>\n",
       "  </thead>\n",
       "  <tbody>\n",
       "    <tr>\n",
       "      <th>Canada</th>\n",
       "      <td>65.7890</td>\n",
       "      <td>1234567</td>\n",
       "      <td>0.9130</td>\n",
       "    </tr>\n",
       "    <tr>\n",
       "      <th>USA</th>\n",
       "      <td>54.6743</td>\n",
       "      <td>3456788</td>\n",
       "      <td>0.3432</td>\n",
       "    </tr>\n",
       "    <tr>\n",
       "      <th>Ghana</th>\n",
       "      <td>345.6780</td>\n",
       "      <td>2346577</td>\n",
       "      <td>0.3210</td>\n",
       "    </tr>\n",
       "    <tr>\n",
       "      <th>Rwanda</th>\n",
       "      <td>23.4560</td>\n",
       "      <td>4847658</td>\n",
       "      <td>0.8790</td>\n",
       "    </tr>\n",
       "    <tr>\n",
       "      <th>Netherlands</th>\n",
       "      <td>67.8900</td>\n",
       "      <td>6754444</td>\n",
       "      <td>0.3730</td>\n",
       "    </tr>\n",
       "  </tbody>\n",
       "</table>\n",
       "</div>"
      ],
      "text/plain": [
       "             Population      GDP     HDI\n",
       "Canada          65.7890  1234567  0.9130\n",
       "USA             54.6743  3456788  0.3432\n",
       "Ghana          345.6780  2346577  0.3210\n",
       "Rwanda          23.4560  4847658  0.8790\n",
       "Netherlands     67.8900  6754444  0.3730"
      ]
     },
     "execution_count": 11,
     "metadata": {},
     "output_type": "execute_result"
    }
   ],
   "source": [
    "df.loc['Canada':'Netherlands']"
   ]
  },
  {
   "cell_type": "code",
   "execution_count": 12,
   "metadata": {},
   "outputs": [
    {
     "data": {
      "text/plain": [
       "Ghana          345.678\n",
       "Rwanda          23.456\n",
       "Netherlands     67.890\n",
       "Name: Population, dtype: float64"
      ]
     },
     "execution_count": 12,
     "metadata": {},
     "output_type": "execute_result"
    }
   ],
   "source": [
    "df.iloc[2:5,0]"
   ]
  },
  {
   "cell_type": "code",
   "execution_count": 13,
   "metadata": {},
   "outputs": [
    {
     "data": {
      "text/plain": [
       "Ghana          345.678\n",
       "Rwanda          23.456\n",
       "Netherlands     67.890\n",
       "Australia      123.098\n",
       "Austria         59.000\n",
       "Name: Population, dtype: float64"
      ]
     },
     "execution_count": 13,
     "metadata": {},
     "output_type": "execute_result"
    }
   ],
   "source": [
    "df.loc['Ghana':'Austria','Population']"
   ]
  },
  {
   "cell_type": "code",
   "execution_count": 14,
   "metadata": {},
   "outputs": [
    {
     "data": {
      "text/plain": [
       "Canada         False\n",
       "USA             True\n",
       "Ghana          False\n",
       "Rwanda          True\n",
       "Netherlands    False\n",
       "Australia      False\n",
       "Austria        False\n",
       "Name: Population, dtype: bool"
      ]
     },
     "execution_count": 14,
     "metadata": {},
     "output_type": "execute_result"
    }
   ],
   "source": [
    "df['Population'] <59"
   ]
  },
  {
   "cell_type": "code",
   "execution_count": 26,
   "metadata": {},
   "outputs": [
    {
     "data": {
      "text/html": [
       "<div>\n",
       "<style scoped>\n",
       "    .dataframe tbody tr th:only-of-type {\n",
       "        vertical-align: middle;\n",
       "    }\n",
       "\n",
       "    .dataframe tbody tr th {\n",
       "        vertical-align: top;\n",
       "    }\n",
       "\n",
       "    .dataframe thead th {\n",
       "        text-align: right;\n",
       "    }\n",
       "</style>\n",
       "<table border=\"1\" class=\"dataframe\">\n",
       "  <thead>\n",
       "    <tr style=\"text-align: right;\">\n",
       "      <th></th>\n",
       "      <th>Population</th>\n",
       "      <th>GDP</th>\n",
       "      <th>HDI</th>\n",
       "      <th>Continent</th>\n",
       "      <th>GDP per Capita</th>\n",
       "    </tr>\n",
       "  </thead>\n",
       "  <tbody>\n",
       "    <tr>\n",
       "      <th>USA</th>\n",
       "      <td>54.6743</td>\n",
       "      <td>3456788</td>\n",
       "      <td>0.3432</td>\n",
       "      <td>North America</td>\n",
       "      <td>63225.098447</td>\n",
       "    </tr>\n",
       "    <tr>\n",
       "      <th>Rwanda</th>\n",
       "      <td>23.4560</td>\n",
       "      <td>4847658</td>\n",
       "      <td>0.8790</td>\n",
       "      <td>Africa</td>\n",
       "      <td>206670.276262</td>\n",
       "    </tr>\n",
       "  </tbody>\n",
       "</table>\n",
       "</div>"
      ],
      "text/plain": [
       "        Population      GDP     HDI      Continent  GDP per Capita\n",
       "USA        54.6743  3456788  0.3432  North America    63225.098447\n",
       "Rwanda     23.4560  4847658  0.8790         Africa   206670.276262"
      ]
     },
     "execution_count": 26,
     "metadata": {},
     "output_type": "execute_result"
    }
   ],
   "source": [
    "df.loc[df['Population']< 59]"
   ]
  },
  {
   "cell_type": "code",
   "execution_count": 16,
   "metadata": {},
   "outputs": [
    {
     "data": {
      "text/html": [
       "<div>\n",
       "<style scoped>\n",
       "    .dataframe tbody tr th:only-of-type {\n",
       "        vertical-align: middle;\n",
       "    }\n",
       "\n",
       "    .dataframe tbody tr th {\n",
       "        vertical-align: top;\n",
       "    }\n",
       "\n",
       "    .dataframe thead th {\n",
       "        text-align: right;\n",
       "    }\n",
       "</style>\n",
       "<table border=\"1\" class=\"dataframe\">\n",
       "  <thead>\n",
       "    <tr style=\"text-align: right;\">\n",
       "      <th></th>\n",
       "      <th>Population</th>\n",
       "      <th>GDP</th>\n",
       "      <th>HDI</th>\n",
       "    </tr>\n",
       "  </thead>\n",
       "  <tbody>\n",
       "    <tr>\n",
       "      <th>USA</th>\n",
       "      <td>54.6743</td>\n",
       "      <td>3456788</td>\n",
       "      <td>0.3432</td>\n",
       "    </tr>\n",
       "    <tr>\n",
       "      <th>Ghana</th>\n",
       "      <td>345.6780</td>\n",
       "      <td>2346577</td>\n",
       "      <td>0.3210</td>\n",
       "    </tr>\n",
       "    <tr>\n",
       "      <th>Rwanda</th>\n",
       "      <td>23.4560</td>\n",
       "      <td>4847658</td>\n",
       "      <td>0.8790</td>\n",
       "    </tr>\n",
       "    <tr>\n",
       "      <th>Netherlands</th>\n",
       "      <td>67.8900</td>\n",
       "      <td>6754444</td>\n",
       "      <td>0.3730</td>\n",
       "    </tr>\n",
       "    <tr>\n",
       "      <th>Australia</th>\n",
       "      <td>123.0980</td>\n",
       "      <td>2343454</td>\n",
       "      <td>0.9990</td>\n",
       "    </tr>\n",
       "    <tr>\n",
       "      <th>Austria</th>\n",
       "      <td>59.0000</td>\n",
       "      <td>8577547</td>\n",
       "      <td>0.3420</td>\n",
       "    </tr>\n",
       "  </tbody>\n",
       "</table>\n",
       "</div>"
      ],
      "text/plain": [
       "             Population      GDP     HDI\n",
       "USA             54.6743  3456788  0.3432\n",
       "Ghana          345.6780  2346577  0.3210\n",
       "Rwanda          23.4560  4847658  0.8790\n",
       "Netherlands     67.8900  6754444  0.3730\n",
       "Australia      123.0980  2343454  0.9990\n",
       "Austria         59.0000  8577547  0.3420"
      ]
     },
     "execution_count": 16,
     "metadata": {},
     "output_type": "execute_result"
    }
   ],
   "source": [
    "df.drop('Canada')"
   ]
  },
  {
   "cell_type": "markdown",
   "metadata": {},
   "source": [
    "Operations just like the one in numpy can be done here as well"
   ]
  },
  {
   "cell_type": "code",
   "execution_count": 17,
   "metadata": {},
   "outputs": [
    {
     "data": {
      "text/plain": [
       "GDP   -10000.0\n",
       "HDI       -0.1\n",
       "dtype: float64"
      ]
     },
     "execution_count": 17,
     "metadata": {},
     "output_type": "execute_result"
    }
   ],
   "source": [
    "crisis=pd.Series([-10000,-0.1], index=['GDP','HDI'])\n",
    "crisis"
   ]
  },
  {
   "cell_type": "code",
   "execution_count": 18,
   "metadata": {},
   "outputs": [
    {
     "data": {
      "text/html": [
       "<div>\n",
       "<style scoped>\n",
       "    .dataframe tbody tr th:only-of-type {\n",
       "        vertical-align: middle;\n",
       "    }\n",
       "\n",
       "    .dataframe tbody tr th {\n",
       "        vertical-align: top;\n",
       "    }\n",
       "\n",
       "    .dataframe thead th {\n",
       "        text-align: right;\n",
       "    }\n",
       "</style>\n",
       "<table border=\"1\" class=\"dataframe\">\n",
       "  <thead>\n",
       "    <tr style=\"text-align: right;\">\n",
       "      <th></th>\n",
       "      <th>GDP</th>\n",
       "      <th>HDI</th>\n",
       "    </tr>\n",
       "  </thead>\n",
       "  <tbody>\n",
       "    <tr>\n",
       "      <th>Canada</th>\n",
       "      <td>1224567.0</td>\n",
       "      <td>0.8130</td>\n",
       "    </tr>\n",
       "    <tr>\n",
       "      <th>USA</th>\n",
       "      <td>3446788.0</td>\n",
       "      <td>0.2432</td>\n",
       "    </tr>\n",
       "    <tr>\n",
       "      <th>Ghana</th>\n",
       "      <td>2336577.0</td>\n",
       "      <td>0.2210</td>\n",
       "    </tr>\n",
       "    <tr>\n",
       "      <th>Rwanda</th>\n",
       "      <td>4837658.0</td>\n",
       "      <td>0.7790</td>\n",
       "    </tr>\n",
       "    <tr>\n",
       "      <th>Netherlands</th>\n",
       "      <td>6744444.0</td>\n",
       "      <td>0.2730</td>\n",
       "    </tr>\n",
       "    <tr>\n",
       "      <th>Australia</th>\n",
       "      <td>2333454.0</td>\n",
       "      <td>0.8990</td>\n",
       "    </tr>\n",
       "    <tr>\n",
       "      <th>Austria</th>\n",
       "      <td>8567547.0</td>\n",
       "      <td>0.2420</td>\n",
       "    </tr>\n",
       "  </tbody>\n",
       "</table>\n",
       "</div>"
      ],
      "text/plain": [
       "                   GDP     HDI\n",
       "Canada       1224567.0  0.8130\n",
       "USA          3446788.0  0.2432\n",
       "Ghana        2336577.0  0.2210\n",
       "Rwanda       4837658.0  0.7790\n",
       "Netherlands  6744444.0  0.2730\n",
       "Australia    2333454.0  0.8990\n",
       "Austria      8567547.0  0.2420"
      ]
     },
     "execution_count": 18,
     "metadata": {},
     "output_type": "execute_result"
    }
   ],
   "source": [
    "df[['GDP','HDI']] + crisis"
   ]
  },
  {
   "cell_type": "markdown",
   "metadata": {},
   "source": [
    "### Modifying Dataframes "
   ]
  },
  {
   "cell_type": "code",
   "execution_count": 19,
   "metadata": {},
   "outputs": [],
   "source": [
    "conts=pd.Series({\n",
    "    'Canada':'North America',\n",
    "    'USA':'North America',\n",
    "    'Ghana': 'Africa',\n",
    "    'Rwanda':'Africa',\n",
    "    'Netherlands':'Europe',\n",
    "    'Austria':'Europe'\n",
    "}, name='Continent')"
   ]
  },
  {
   "cell_type": "code",
   "execution_count": 20,
   "metadata": {},
   "outputs": [
    {
     "data": {
      "text/html": [
       "<div>\n",
       "<style scoped>\n",
       "    .dataframe tbody tr th:only-of-type {\n",
       "        vertical-align: middle;\n",
       "    }\n",
       "\n",
       "    .dataframe tbody tr th {\n",
       "        vertical-align: top;\n",
       "    }\n",
       "\n",
       "    .dataframe thead th {\n",
       "        text-align: right;\n",
       "    }\n",
       "</style>\n",
       "<table border=\"1\" class=\"dataframe\">\n",
       "  <thead>\n",
       "    <tr style=\"text-align: right;\">\n",
       "      <th></th>\n",
       "      <th>Population</th>\n",
       "      <th>GDP</th>\n",
       "      <th>HDI</th>\n",
       "      <th>Continent</th>\n",
       "    </tr>\n",
       "  </thead>\n",
       "  <tbody>\n",
       "    <tr>\n",
       "      <th>Canada</th>\n",
       "      <td>65.7890</td>\n",
       "      <td>1234567</td>\n",
       "      <td>0.9130</td>\n",
       "      <td>North America</td>\n",
       "    </tr>\n",
       "    <tr>\n",
       "      <th>USA</th>\n",
       "      <td>54.6743</td>\n",
       "      <td>3456788</td>\n",
       "      <td>0.3432</td>\n",
       "      <td>North America</td>\n",
       "    </tr>\n",
       "    <tr>\n",
       "      <th>Ghana</th>\n",
       "      <td>345.6780</td>\n",
       "      <td>2346577</td>\n",
       "      <td>0.3210</td>\n",
       "      <td>Africa</td>\n",
       "    </tr>\n",
       "    <tr>\n",
       "      <th>Rwanda</th>\n",
       "      <td>23.4560</td>\n",
       "      <td>4847658</td>\n",
       "      <td>0.8790</td>\n",
       "      <td>Africa</td>\n",
       "    </tr>\n",
       "    <tr>\n",
       "      <th>Netherlands</th>\n",
       "      <td>67.8900</td>\n",
       "      <td>6754444</td>\n",
       "      <td>0.3730</td>\n",
       "      <td>Europe</td>\n",
       "    </tr>\n",
       "    <tr>\n",
       "      <th>Australia</th>\n",
       "      <td>123.0980</td>\n",
       "      <td>2343454</td>\n",
       "      <td>0.9990</td>\n",
       "      <td>NaN</td>\n",
       "    </tr>\n",
       "    <tr>\n",
       "      <th>Austria</th>\n",
       "      <td>59.0000</td>\n",
       "      <td>8577547</td>\n",
       "      <td>0.3420</td>\n",
       "      <td>Europe</td>\n",
       "    </tr>\n",
       "  </tbody>\n",
       "</table>\n",
       "</div>"
      ],
      "text/plain": [
       "             Population      GDP     HDI      Continent\n",
       "Canada          65.7890  1234567  0.9130  North America\n",
       "USA             54.6743  3456788  0.3432  North America\n",
       "Ghana          345.6780  2346577  0.3210         Africa\n",
       "Rwanda          23.4560  4847658  0.8790         Africa\n",
       "Netherlands     67.8900  6754444  0.3730         Europe\n",
       "Australia      123.0980  2343454  0.9990            NaN\n",
       "Austria         59.0000  8577547  0.3420         Europe"
      ]
     },
     "execution_count": 20,
     "metadata": {},
     "output_type": "execute_result"
    }
   ],
   "source": [
    "df['Continent']= conts\n",
    "df"
   ]
  },
  {
   "cell_type": "code",
   "execution_count": 21,
   "metadata": {},
   "outputs": [
    {
     "data": {
      "text/html": [
       "<div>\n",
       "<style scoped>\n",
       "    .dataframe tbody tr th:only-of-type {\n",
       "        vertical-align: middle;\n",
       "    }\n",
       "\n",
       "    .dataframe tbody tr th {\n",
       "        vertical-align: top;\n",
       "    }\n",
       "\n",
       "    .dataframe thead th {\n",
       "        text-align: right;\n",
       "    }\n",
       "</style>\n",
       "<table border=\"1\" class=\"dataframe\">\n",
       "  <thead>\n",
       "    <tr style=\"text-align: right;\">\n",
       "      <th></th>\n",
       "      <th>Population</th>\n",
       "      <th>GDP</th>\n",
       "      <th>HDI</th>\n",
       "      <th>CONTINENT</th>\n",
       "    </tr>\n",
       "  </thead>\n",
       "  <tbody>\n",
       "    <tr>\n",
       "      <th>Canada</th>\n",
       "      <td>65.7890</td>\n",
       "      <td>1234567</td>\n",
       "      <td>0.9130</td>\n",
       "      <td>North America</td>\n",
       "    </tr>\n",
       "    <tr>\n",
       "      <th>United States of America</th>\n",
       "      <td>54.6743</td>\n",
       "      <td>3456788</td>\n",
       "      <td>0.3432</td>\n",
       "      <td>North America</td>\n",
       "    </tr>\n",
       "    <tr>\n",
       "      <th>Ghana</th>\n",
       "      <td>345.6780</td>\n",
       "      <td>2346577</td>\n",
       "      <td>0.3210</td>\n",
       "      <td>Africa</td>\n",
       "    </tr>\n",
       "    <tr>\n",
       "      <th>Rwanda</th>\n",
       "      <td>23.4560</td>\n",
       "      <td>4847658</td>\n",
       "      <td>0.8790</td>\n",
       "      <td>Africa</td>\n",
       "    </tr>\n",
       "    <tr>\n",
       "      <th>Netherlands</th>\n",
       "      <td>67.8900</td>\n",
       "      <td>6754444</td>\n",
       "      <td>0.3730</td>\n",
       "      <td>Europe</td>\n",
       "    </tr>\n",
       "    <tr>\n",
       "      <th>Australia</th>\n",
       "      <td>123.0980</td>\n",
       "      <td>2343454</td>\n",
       "      <td>0.9990</td>\n",
       "      <td>NaN</td>\n",
       "    </tr>\n",
       "    <tr>\n",
       "      <th>Austria</th>\n",
       "      <td>59.0000</td>\n",
       "      <td>8577547</td>\n",
       "      <td>0.3420</td>\n",
       "      <td>Europe</td>\n",
       "    </tr>\n",
       "  </tbody>\n",
       "</table>\n",
       "</div>"
      ],
      "text/plain": [
       "                          Population      GDP     HDI      CONTINENT\n",
       "Canada                       65.7890  1234567  0.9130  North America\n",
       "United States of America     54.6743  3456788  0.3432  North America\n",
       "Ghana                       345.6780  2346577  0.3210         Africa\n",
       "Rwanda                       23.4560  4847658  0.8790         Africa\n",
       "Netherlands                  67.8900  6754444  0.3730         Europe\n",
       "Australia                   123.0980  2343454  0.9990            NaN\n",
       "Austria                      59.0000  8577547  0.3420         Europe"
      ]
     },
     "execution_count": 21,
     "metadata": {},
     "output_type": "execute_result"
    }
   ],
   "source": [
    "df.rename(columns={'Continent':'CONTINENT'},\n",
    "          index={'USA':'United States of America'})"
   ]
  },
  {
   "cell_type": "code",
   "execution_count": 22,
   "metadata": {},
   "outputs": [
    {
     "data": {
      "text/html": [
       "<div>\n",
       "<style scoped>\n",
       "    .dataframe tbody tr th:only-of-type {\n",
       "        vertical-align: middle;\n",
       "    }\n",
       "\n",
       "    .dataframe tbody tr th {\n",
       "        vertical-align: top;\n",
       "    }\n",
       "\n",
       "    .dataframe thead th {\n",
       "        text-align: right;\n",
       "    }\n",
       "</style>\n",
       "<table border=\"1\" class=\"dataframe\">\n",
       "  <thead>\n",
       "    <tr style=\"text-align: right;\">\n",
       "      <th></th>\n",
       "      <th>Population</th>\n",
       "      <th>GDP</th>\n",
       "      <th>HDI</th>\n",
       "      <th>Continent</th>\n",
       "    </tr>\n",
       "  </thead>\n",
       "  <tbody>\n",
       "    <tr>\n",
       "      <th>Canada</th>\n",
       "      <td>65.7890</td>\n",
       "      <td>1234567</td>\n",
       "      <td>0.9130</td>\n",
       "      <td>North America</td>\n",
       "    </tr>\n",
       "    <tr>\n",
       "      <th>USA</th>\n",
       "      <td>54.6743</td>\n",
       "      <td>3456788</td>\n",
       "      <td>0.3432</td>\n",
       "      <td>North America</td>\n",
       "    </tr>\n",
       "    <tr>\n",
       "      <th>Ghana</th>\n",
       "      <td>345.6780</td>\n",
       "      <td>2346577</td>\n",
       "      <td>0.3210</td>\n",
       "      <td>Africa</td>\n",
       "    </tr>\n",
       "    <tr>\n",
       "      <th>Rwanda</th>\n",
       "      <td>23.4560</td>\n",
       "      <td>4847658</td>\n",
       "      <td>0.8790</td>\n",
       "      <td>Africa</td>\n",
       "    </tr>\n",
       "    <tr>\n",
       "      <th>Netherlands</th>\n",
       "      <td>67.8900</td>\n",
       "      <td>6754444</td>\n",
       "      <td>0.3730</td>\n",
       "      <td>Europe</td>\n",
       "    </tr>\n",
       "    <tr>\n",
       "      <th>Australia</th>\n",
       "      <td>123.0980</td>\n",
       "      <td>2343454</td>\n",
       "      <td>0.9990</td>\n",
       "      <td>NaN</td>\n",
       "    </tr>\n",
       "    <tr>\n",
       "      <th>Austria</th>\n",
       "      <td>59.0000</td>\n",
       "      <td>8577547</td>\n",
       "      <td>0.3420</td>\n",
       "      <td>Europe</td>\n",
       "    </tr>\n",
       "  </tbody>\n",
       "</table>\n",
       "</div>"
      ],
      "text/plain": [
       "             Population      GDP     HDI      Continent\n",
       "Canada          65.7890  1234567  0.9130  North America\n",
       "USA             54.6743  3456788  0.3432  North America\n",
       "Ghana          345.6780  2346577  0.3210         Africa\n",
       "Rwanda          23.4560  4847658  0.8790         Africa\n",
       "Netherlands     67.8900  6754444  0.3730         Europe\n",
       "Australia      123.0980  2343454  0.9990            NaN\n",
       "Austria         59.0000  8577547  0.3420         Europe"
      ]
     },
     "execution_count": 22,
     "metadata": {},
     "output_type": "execute_result"
    }
   ],
   "source": [
    "df"
   ]
  },
  {
   "cell_type": "code",
   "execution_count": 23,
   "metadata": {},
   "outputs": [
    {
     "data": {
      "text/plain": [
       "Canada          18765.553512\n",
       "USA             63225.098447\n",
       "Ghana            6788.331916\n",
       "Rwanda         206670.276262\n",
       "Netherlands     99491.000147\n",
       "Australia       19037.303612\n",
       "Austria        145382.152542\n",
       "dtype: float64"
      ]
     },
     "execution_count": 23,
     "metadata": {},
     "output_type": "execute_result"
    }
   ],
   "source": [
    "df['GDP'] / df['Population']"
   ]
  },
  {
   "cell_type": "code",
   "execution_count": 24,
   "metadata": {},
   "outputs": [],
   "source": [
    "df['GDP per Capita']= df['GDP'] /df['Population']"
   ]
  },
  {
   "cell_type": "code",
   "execution_count": 25,
   "metadata": {},
   "outputs": [
    {
     "data": {
      "text/html": [
       "<div>\n",
       "<style scoped>\n",
       "    .dataframe tbody tr th:only-of-type {\n",
       "        vertical-align: middle;\n",
       "    }\n",
       "\n",
       "    .dataframe tbody tr th {\n",
       "        vertical-align: top;\n",
       "    }\n",
       "\n",
       "    .dataframe thead th {\n",
       "        text-align: right;\n",
       "    }\n",
       "</style>\n",
       "<table border=\"1\" class=\"dataframe\">\n",
       "  <thead>\n",
       "    <tr style=\"text-align: right;\">\n",
       "      <th></th>\n",
       "      <th>Population</th>\n",
       "      <th>GDP</th>\n",
       "      <th>HDI</th>\n",
       "      <th>Continent</th>\n",
       "      <th>GDP per Capita</th>\n",
       "    </tr>\n",
       "  </thead>\n",
       "  <tbody>\n",
       "    <tr>\n",
       "      <th>Canada</th>\n",
       "      <td>65.7890</td>\n",
       "      <td>1234567</td>\n",
       "      <td>0.9130</td>\n",
       "      <td>North America</td>\n",
       "      <td>18765.553512</td>\n",
       "    </tr>\n",
       "    <tr>\n",
       "      <th>USA</th>\n",
       "      <td>54.6743</td>\n",
       "      <td>3456788</td>\n",
       "      <td>0.3432</td>\n",
       "      <td>North America</td>\n",
       "      <td>63225.098447</td>\n",
       "    </tr>\n",
       "    <tr>\n",
       "      <th>Ghana</th>\n",
       "      <td>345.6780</td>\n",
       "      <td>2346577</td>\n",
       "      <td>0.3210</td>\n",
       "      <td>Africa</td>\n",
       "      <td>6788.331916</td>\n",
       "    </tr>\n",
       "    <tr>\n",
       "      <th>Rwanda</th>\n",
       "      <td>23.4560</td>\n",
       "      <td>4847658</td>\n",
       "      <td>0.8790</td>\n",
       "      <td>Africa</td>\n",
       "      <td>206670.276262</td>\n",
       "    </tr>\n",
       "    <tr>\n",
       "      <th>Netherlands</th>\n",
       "      <td>67.8900</td>\n",
       "      <td>6754444</td>\n",
       "      <td>0.3730</td>\n",
       "      <td>Europe</td>\n",
       "      <td>99491.000147</td>\n",
       "    </tr>\n",
       "    <tr>\n",
       "      <th>Australia</th>\n",
       "      <td>123.0980</td>\n",
       "      <td>2343454</td>\n",
       "      <td>0.9990</td>\n",
       "      <td>NaN</td>\n",
       "      <td>19037.303612</td>\n",
       "    </tr>\n",
       "    <tr>\n",
       "      <th>Austria</th>\n",
       "      <td>59.0000</td>\n",
       "      <td>8577547</td>\n",
       "      <td>0.3420</td>\n",
       "      <td>Europe</td>\n",
       "      <td>145382.152542</td>\n",
       "    </tr>\n",
       "  </tbody>\n",
       "</table>\n",
       "</div>"
      ],
      "text/plain": [
       "             Population      GDP     HDI      Continent  GDP per Capita\n",
       "Canada          65.7890  1234567  0.9130  North America    18765.553512\n",
       "USA             54.6743  3456788  0.3432  North America    63225.098447\n",
       "Ghana          345.6780  2346577  0.3210         Africa     6788.331916\n",
       "Rwanda          23.4560  4847658  0.8790         Africa   206670.276262\n",
       "Netherlands     67.8900  6754444  0.3730         Europe    99491.000147\n",
       "Australia      123.0980  2343454  0.9990            NaN    19037.303612\n",
       "Austria         59.0000  8577547  0.3420         Europe   145382.152542"
      ]
     },
     "execution_count": 25,
     "metadata": {},
     "output_type": "execute_result"
    }
   ],
   "source": [
    "df"
   ]
  }
 ],
 "metadata": {
  "kernelspec": {
   "display_name": ".venv",
   "language": "python",
   "name": "python3"
  },
  "language_info": {
   "codemirror_mode": {
    "name": "ipython",
    "version": 3
   },
   "file_extension": ".py",
   "mimetype": "text/x-python",
   "name": "python",
   "nbconvert_exporter": "python",
   "pygments_lexer": "ipython3",
   "version": "3.12.1"
  }
 },
 "nbformat": 4,
 "nbformat_minor": 2
}
