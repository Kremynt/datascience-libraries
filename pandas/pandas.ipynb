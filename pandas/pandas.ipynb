{
 "cells": [
  {
   "cell_type": "markdown",
   "metadata": {},
   "source": [
    "Pandas"
   ]
  },
  {
   "cell_type": "code",
   "execution_count": 1,
   "metadata": {},
   "outputs": [],
   "source": [
    "import numpy as np\n",
    "import pandas as pd"
   ]
  },
  {
   "cell_type": "markdown",
   "metadata": {},
   "source": [
    "Pandas Series"
   ]
  },
  {
   "cell_type": "code",
   "execution_count": 2,
   "metadata": {},
   "outputs": [
    {
     "data": {
      "text/plain": [
       "0     65.7890\n",
       "1     54.6743\n",
       "2    345.6780\n",
       "3     23.4560\n",
       "4     67.8900\n",
       "5    123.0980\n",
       "6     59.0000\n",
       "dtype: float64"
      ]
     },
     "execution_count": 2,
     "metadata": {},
     "output_type": "execute_result"
    }
   ],
   "source": [
    "#In millions\n",
    "g7_pop=pd.Series([65.789,54.6743,345.678,23.456,67.890,123.098,59.000])\n",
    "g7_pop"
   ]
  },
  {
   "cell_type": "code",
   "execution_count": 3,
   "metadata": {},
   "outputs": [
    {
     "data": {
      "text/plain": [
       "0     65.7890\n",
       "1     54.6743\n",
       "2    345.6780\n",
       "3     23.4560\n",
       "4     67.8900\n",
       "5    123.0980\n",
       "6     59.0000\n",
       "Name: G7 Population in millions, dtype: float64"
      ]
     },
     "execution_count": 3,
     "metadata": {},
     "output_type": "execute_result"
    }
   ],
   "source": [
    "g7_pop.name= 'G7 Population in millions'\n",
    "g7_pop"
   ]
  },
  {
   "cell_type": "code",
   "execution_count": 4,
   "metadata": {},
   "outputs": [
    {
     "data": {
      "text/plain": [
       "array([ 65.789 ,  54.6743, 345.678 ,  23.456 ,  67.89  , 123.098 ,\n",
       "        59.    ])"
      ]
     },
     "execution_count": 4,
     "metadata": {},
     "output_type": "execute_result"
    }
   ],
   "source": [
    "g7_pop.values"
   ]
  },
  {
   "cell_type": "code",
   "execution_count": 5,
   "metadata": {},
   "outputs": [
    {
     "data": {
      "text/plain": [
       "Canada             65.7890\n",
       "United Kingdom     54.6743\n",
       "Ghana             345.6780\n",
       "Togo               23.4560\n",
       "Benin              67.8900\n",
       "Germany           123.0980\n",
       "United States      59.0000\n",
       "Name: G7 Population in millions, dtype: float64"
      ]
     },
     "execution_count": 5,
     "metadata": {},
     "output_type": "execute_result"
    }
   ],
   "source": [
    "g7_pop.index=[\n",
    "    'Canada',\n",
    "    'United Kingdom',\n",
    "    'Ghana',\n",
    "    'Togo',\n",
    "    'Benin',\n",
    "    'Germany',\n",
    "    'United States'\n",
    "]\n",
    "g7_pop"
   ]
  },
  {
   "cell_type": "markdown",
   "metadata": {},
   "source": [
    "The series can also be created with indexes like a dictionary"
   ]
  },
  {
   "cell_type": "code",
   "execution_count": 6,
   "metadata": {},
   "outputs": [
    {
     "data": {
      "text/plain": [
       "Canada             98.567\n",
       "United Kingdom    657.432\n",
       "France             98.466\n",
       "Japan             354.321\n",
       "Germany            91.000\n",
       "United States      98.909\n",
       "Italy              60.655\n",
       "Name: G7 Population in millions, dtype: float64"
      ]
     },
     "execution_count": 6,
     "metadata": {},
     "output_type": "execute_result"
    }
   ],
   "source": [
    "ar=pd.Series({\n",
    "    'Canada':98.567,\n",
    "    'United Kingdom':657.432,\n",
    "    'France':98.466,\n",
    "    'Japan':354.321,\n",
    "    'Germany':91.000,\n",
    "    'United States':98.909,\n",
    "    'Italy': 60.655\n",
    "} , name='G7 Population in millions')\n",
    "ar\n"
   ]
  },
  {
   "cell_type": "code",
   "execution_count": 7,
   "metadata": {},
   "outputs": [
    {
     "data": {
      "text/plain": [
       "98.567"
      ]
     },
     "execution_count": 7,
     "metadata": {},
     "output_type": "execute_result"
    }
   ],
   "source": [
    "ar['Canada']"
   ]
  },
  {
   "cell_type": "markdown",
   "metadata": {},
   "source": [
    "If indexes are named, indexing can still be done the default way using .iloc"
   ]
  },
  {
   "cell_type": "code",
   "execution_count": 8,
   "metadata": {},
   "outputs": [
    {
     "data": {
      "text/plain": [
       "91.0"
      ]
     },
     "execution_count": 8,
     "metadata": {},
     "output_type": "execute_result"
    }
   ],
   "source": [
    "ar.iloc[4]"
   ]
  },
  {
   "cell_type": "code",
   "execution_count": 9,
   "metadata": {},
   "outputs": [
    {
     "data": {
      "text/plain": [
       "Canada            False\n",
       "United Kingdom     True\n",
       "France            False\n",
       "Japan              True\n",
       "Germany           False\n",
       "United States     False\n",
       "Italy             False\n",
       "Name: G7 Population in millions, dtype: bool"
      ]
     },
     "execution_count": 9,
     "metadata": {},
     "output_type": "execute_result"
    }
   ],
   "source": [
    "ar > 100"
   ]
  },
  {
   "cell_type": "code",
   "execution_count": 10,
   "metadata": {},
   "outputs": [
    {
     "data": {
      "text/plain": [
       "United Kingdom    657.432\n",
       "Japan             354.321\n",
       "Name: G7 Population in millions, dtype: float64"
      ]
     },
     "execution_count": 10,
     "metadata": {},
     "output_type": "execute_result"
    }
   ],
   "source": [
    "ar[ar > 100]"
   ]
  }
 ],
 "metadata": {
  "kernelspec": {
   "display_name": ".venv",
   "language": "python",
   "name": "python3"
  },
  "language_info": {
   "codemirror_mode": {
    "name": "ipython",
    "version": 3
   },
   "file_extension": ".py",
   "mimetype": "text/x-python",
   "name": "python",
   "nbconvert_exporter": "python",
   "pygments_lexer": "ipython3",
   "version": "3.12.1"
  }
 },
 "nbformat": 4,
 "nbformat_minor": 2
}
